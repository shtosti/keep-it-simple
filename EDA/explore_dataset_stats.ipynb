{
 "cells": [
  {
   "cell_type": "markdown",
   "metadata": {},
   "source": [
    "# WikiLarge"
   ]
  },
  {
   "cell_type": "code",
   "execution_count": 87,
   "metadata": {},
   "outputs": [
    {
     "name": "stdout",
     "output_type": "stream",
     "text": [
      "297753\n"
     ]
    }
   ],
   "source": [
    "import pandas as pd\n",
    "\n",
    "BASE_PATH = \"./../../datasets/wiki/wikilarge\"\n",
    "BASE_FILENAME = f\"wiki.full.aner.ori.\"\n",
    "\n",
    "train_src_path = f\"{BASE_PATH}/{BASE_FILENAME}train.src\"\n",
    "train_dst_path = f\"{BASE_PATH}/{BASE_FILENAME}train.dst\"\n",
    "test_src_path = f\"{BASE_PATH}/{BASE_FILENAME}test.src\"\n",
    "test_dst_path = f\"{BASE_PATH}/{BASE_FILENAME}test.src\"\n",
    "valid_src_path = f\"{BASE_PATH}/{BASE_FILENAME}valid.src\"\n",
    "valid_dst_path = f\"{BASE_PATH}/{BASE_FILENAME}valid.dst\"\n",
    "\n",
    "\n",
    "with open(train_src_path, \"r\") as src, open(train_dst_path) as dst:\n",
    "    train_src = src.readlines()\n",
    "    train_dst = dst.readlines()\n",
    "with open(test_src_path, \"r\") as src, open(test_dst_path) as dst:\n",
    "    test_src = src.readlines()\n",
    "    test_dst = dst.readlines()\n",
    "with open(valid_src_path, \"r\") as src, open(valid_dst_path) as dst:\n",
    "    valid_src = src.readlines()\n",
    "    valid_dst = dst.readlines()\n",
    "\n",
    "# Create DataFrames for each split\n",
    "train_df = pd.DataFrame({\"source\": train_src, \"target\": train_dst, \"split\": \"train\"})\n",
    "test_df = pd.DataFrame({\"source\": test_src, \"target\": test_dst, \"split\": \"test\"})\n",
    "valid_df = pd.DataFrame({\"source\": valid_src, \"target\": valid_dst, \"split\": \"valid\"})\n",
    "\n",
    "# Concatenate all DataFrames\n",
    "full_df = pd.concat([train_df, test_df, valid_df], ignore_index=True)\n",
    "print(len(full_df))"
   ]
  },
  {
   "cell_type": "code",
   "execution_count": null,
   "metadata": {},
   "outputs": [],
   "source": []
  }
 ],
 "metadata": {
  "kernelspec": {
   "display_name": ".env",
   "language": "python",
   "name": "python3"
  },
  "language_info": {
   "codemirror_mode": {
    "name": "ipython",
    "version": 3
   },
   "file_extension": ".py",
   "mimetype": "text/x-python",
   "name": "python",
   "nbconvert_exporter": "python",
   "pygments_lexer": "ipython3",
   "version": "3.12.4"
  }
 },
 "nbformat": 4,
 "nbformat_minor": 2
}
