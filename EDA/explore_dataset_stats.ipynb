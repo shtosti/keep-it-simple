{
 "cells": [
  {
   "cell_type": "markdown",
   "metadata": {},
   "source": [
    "# NEWSELA"
   ]
  },
  {
   "cell_type": "code",
   "execution_count": 1,
   "metadata": {},
   "outputs": [],
   "source": [
    "import os\n",
    "import pandas as pd"
   ]
  },
  {
   "cell_type": "code",
   "execution_count": 11,
   "metadata": {},
   "outputs": [
    {
     "data": {
      "text/html": [
       "<div>\n",
       "<style scoped>\n",
       "    .dataframe tbody tr th:only-of-type {\n",
       "        vertical-align: middle;\n",
       "    }\n",
       "\n",
       "    .dataframe tbody tr th {\n",
       "        vertical-align: top;\n",
       "    }\n",
       "\n",
       "    .dataframe thead th {\n",
       "        text-align: right;\n",
       "    }\n",
       "</style>\n",
       "<table border=\"1\" class=\"dataframe\">\n",
       "  <thead>\n",
       "    <tr style=\"text-align: right;\">\n",
       "      <th></th>\n",
       "      <th>filename</th>\n",
       "      <th>content</th>\n",
       "      <th>slug</th>\n",
       "      <th>language</th>\n",
       "      <th>title</th>\n",
       "      <th>grade_level</th>\n",
       "      <th>version</th>\n",
       "    </tr>\n",
       "  </thead>\n",
       "  <tbody>\n",
       "    <tr>\n",
       "      <th>0</th>\n",
       "      <td>lincoln-library.en.2.txt</td>\n",
       "      <td>Every morning, historian and author Daniel Sto...</td>\n",
       "      <td>lincoln-library</td>\n",
       "      <td>en</td>\n",
       "      <td>\"Dear Mr. President\" letters go online at Linc...</td>\n",
       "      <td>6.0</td>\n",
       "      <td>2</td>\n",
       "    </tr>\n",
       "    <tr>\n",
       "      <th>1</th>\n",
       "      <td>whales-entangled.en.3.txt</td>\n",
       "      <td>LOS ANGELES — In the Pacific waters off the co...</td>\n",
       "      <td>whales-entangled</td>\n",
       "      <td>en</td>\n",
       "      <td>More whales get tangled in crab-fishing gear</td>\n",
       "      <td>6.0</td>\n",
       "      <td>3</td>\n",
       "    </tr>\n",
       "    <tr>\n",
       "      <th>2</th>\n",
       "      <td>shark-catches.en.3.txt</td>\n",
       "      <td>FORT LAUDERDALE, Fla. — South Florida fisherma...</td>\n",
       "      <td>shark-catches</td>\n",
       "      <td>en</td>\n",
       "      <td>Dragging a shark onto a beach in Florida is ag...</td>\n",
       "      <td>5.0</td>\n",
       "      <td>3</td>\n",
       "    </tr>\n",
       "    <tr>\n",
       "      <th>3</th>\n",
       "      <td>diapers-demand.en.1.txt</td>\n",
       "      <td>LOS ANGELES — There have been days since her s...</td>\n",
       "      <td>diapers-demand</td>\n",
       "      <td>en</td>\n",
       "      <td>Many low-income moms struggle to keep their ki...</td>\n",
       "      <td>8.0</td>\n",
       "      <td>1</td>\n",
       "    </tr>\n",
       "    <tr>\n",
       "      <th>4</th>\n",
       "      <td>spain-jews-spanish.es.3.txt</td>\n",
       "      <td>SEATTLE — Hace poco, Doreen Alhadeff se reunió...</td>\n",
       "      <td>spain-jews-spanish</td>\n",
       "      <td>es</td>\n",
       "      <td>Judíos en Seattle discuten si deben adoptar ci...</td>\n",
       "      <td>5.0</td>\n",
       "      <td>3</td>\n",
       "    </tr>\n",
       "  </tbody>\n",
       "</table>\n",
       "</div>"
      ],
      "text/plain": [
       "                      filename  \\\n",
       "0     lincoln-library.en.2.txt   \n",
       "1    whales-entangled.en.3.txt   \n",
       "2       shark-catches.en.3.txt   \n",
       "3      diapers-demand.en.1.txt   \n",
       "4  spain-jews-spanish.es.3.txt   \n",
       "\n",
       "                                             content                slug  \\\n",
       "0  Every morning, historian and author Daniel Sto...     lincoln-library   \n",
       "1  LOS ANGELES — In the Pacific waters off the co...    whales-entangled   \n",
       "2  FORT LAUDERDALE, Fla. — South Florida fisherma...       shark-catches   \n",
       "3  LOS ANGELES — There have been days since her s...      diapers-demand   \n",
       "4  SEATTLE — Hace poco, Doreen Alhadeff se reunió...  spain-jews-spanish   \n",
       "\n",
       "  language                                              title  grade_level  \\\n",
       "0       en  \"Dear Mr. President\" letters go online at Linc...          6.0   \n",
       "1       en       More whales get tangled in crab-fishing gear          6.0   \n",
       "2       en  Dragging a shark onto a beach in Florida is ag...          5.0   \n",
       "3       en  Many low-income moms struggle to keep their ki...          8.0   \n",
       "4       es  Judíos en Seattle discuten si deben adoptar ci...          5.0   \n",
       "\n",
       "   version  \n",
       "0        2  \n",
       "1        3  \n",
       "2        3  \n",
       "3        1  \n",
       "4        3  "
      ]
     },
     "execution_count": 11,
     "metadata": {},
     "output_type": "execute_result"
    }
   ],
   "source": [
    "# Define the path to the directory containing the .txt files\n",
    "NEWSELA_DIR_PATH = \"./../../datasets/newsela/newsela_article_corpus_2016-01-29/articles\"\n",
    "NEWSELA_METADATA_PATH = \"./../../datasets/newsela/newsela_article_corpus_2016-01-29/articles_metadata.csv\"\n",
    "\n",
    "data = []\n",
    "metadata = pd.read_csv(NEWSELA_METADATA_PATH, sep=',')\n",
    "\n",
    "for filename in os.listdir(NEWSELA_DIR_PATH):\n",
    "    if filename.endswith(\".txt\"):\n",
    "        file_path = os.path.join(NEWSELA_DIR_PATH, filename)\n",
    "        with open(file_path, \"r\", encoding=\"utf-8\") as file:  # Open the file\n",
    "            content = file.read()  # Read the file's content\n",
    "            data.append({\"filename\": filename, \"content\": content})  # Add data to the list\n",
    "\n",
    "\n",
    "articles_df = pd.DataFrame(data)\n",
    "merged_df = pd.merge(articles_df, metadata, on=\"filename\", how=\"inner\")\n",
    "df_newsela = merged_df\n",
    "\n",
    "df_newsela.head()"
   ]
  },
  {
   "cell_type": "code",
   "execution_count": 12,
   "metadata": {},
   "outputs": [
    {
     "data": {
      "text/plain": [
       "language\n",
       "en    9565\n",
       "es    1221\n",
       "Name: count, dtype: int64"
      ]
     },
     "execution_count": 12,
     "metadata": {},
     "output_type": "execute_result"
    }
   ],
   "source": [
    "df_newsela.language.value_counts()"
   ]
  },
  {
   "cell_type": "code",
   "execution_count": 13,
   "metadata": {},
   "outputs": [
    {
     "data": {
      "text/html": [
       "<div>\n",
       "<style scoped>\n",
       "    .dataframe tbody tr th:only-of-type {\n",
       "        vertical-align: middle;\n",
       "    }\n",
       "\n",
       "    .dataframe tbody tr th {\n",
       "        vertical-align: top;\n",
       "    }\n",
       "\n",
       "    .dataframe thead th {\n",
       "        text-align: right;\n",
       "    }\n",
       "</style>\n",
       "<table border=\"1\" class=\"dataframe\">\n",
       "  <thead>\n",
       "    <tr style=\"text-align: right;\">\n",
       "      <th></th>\n",
       "      <th>grade_level</th>\n",
       "      <th>version</th>\n",
       "    </tr>\n",
       "  </thead>\n",
       "  <tbody>\n",
       "    <tr>\n",
       "      <th>count</th>\n",
       "      <td>10786.000000</td>\n",
       "      <td>10786.000000</td>\n",
       "    </tr>\n",
       "    <tr>\n",
       "      <th>mean</th>\n",
       "      <td>7.019562</td>\n",
       "      <td>2.007973</td>\n",
       "    </tr>\n",
       "    <tr>\n",
       "      <th>std</th>\n",
       "      <td>2.996534</td>\n",
       "      <td>1.423471</td>\n",
       "    </tr>\n",
       "    <tr>\n",
       "      <th>min</th>\n",
       "      <td>2.000000</td>\n",
       "      <td>0.000000</td>\n",
       "    </tr>\n",
       "    <tr>\n",
       "      <th>25%</th>\n",
       "      <td>5.000000</td>\n",
       "      <td>1.000000</td>\n",
       "    </tr>\n",
       "    <tr>\n",
       "      <th>50%</th>\n",
       "      <td>7.000000</td>\n",
       "      <td>2.000000</td>\n",
       "    </tr>\n",
       "    <tr>\n",
       "      <th>75%</th>\n",
       "      <td>9.000000</td>\n",
       "      <td>3.000000</td>\n",
       "    </tr>\n",
       "    <tr>\n",
       "      <th>max</th>\n",
       "      <td>12.000000</td>\n",
       "      <td>5.000000</td>\n",
       "    </tr>\n",
       "  </tbody>\n",
       "</table>\n",
       "</div>"
      ],
      "text/plain": [
       "        grade_level       version\n",
       "count  10786.000000  10786.000000\n",
       "mean       7.019562      2.007973\n",
       "std        2.996534      1.423471\n",
       "min        2.000000      0.000000\n",
       "25%        5.000000      1.000000\n",
       "50%        7.000000      2.000000\n",
       "75%        9.000000      3.000000\n",
       "max       12.000000      5.000000"
      ]
     },
     "execution_count": 13,
     "metadata": {},
     "output_type": "execute_result"
    }
   ],
   "source": [
    "df_newsela.describe()"
   ]
  },
  {
   "cell_type": "code",
   "execution_count": 14,
   "metadata": {},
   "outputs": [
    {
     "name": "stdout",
     "output_type": "stream",
     "text": [
      "<class 'pandas.core.frame.DataFrame'>\n",
      "RangeIndex: 10786 entries, 0 to 10785\n",
      "Data columns (total 7 columns):\n",
      " #   Column       Non-Null Count  Dtype  \n",
      "---  ------       --------------  -----  \n",
      " 0   filename     10786 non-null  object \n",
      " 1   content      10786 non-null  object \n",
      " 2   slug         10786 non-null  object \n",
      " 3   language     10786 non-null  object \n",
      " 4   title        10786 non-null  object \n",
      " 5   grade_level  10786 non-null  float64\n",
      " 6   version      10786 non-null  int64  \n",
      "dtypes: float64(1), int64(1), object(5)\n",
      "memory usage: 590.0+ KB\n"
     ]
    }
   ],
   "source": [
    "df_newsela.info()"
   ]
  },
  {
   "cell_type": "code",
   "execution_count": null,
   "metadata": {},
   "outputs": [],
   "source": []
  }
 ],
 "metadata": {
  "kernelspec": {
   "display_name": ".env",
   "language": "python",
   "name": "python3"
  },
  "language_info": {
   "codemirror_mode": {
    "name": "ipython",
    "version": 3
   },
   "file_extension": ".py",
   "mimetype": "text/x-python",
   "name": "python",
   "nbconvert_exporter": "python",
   "pygments_lexer": "ipython3",
   "version": "3.12.4"
  }
 },
 "nbformat": 4,
 "nbformat_minor": 2
}
